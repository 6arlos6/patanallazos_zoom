{
 "cells": [
  {
   "cell_type": "code",
   "execution_count": 2,
   "metadata": {},
   "outputs": [],
   "source": [
    "import mss\n",
    "import mss.tools\n",
    "\n",
    "def capturar_monitor_2(filename):\n",
    "    with mss.mss() as sct:\n",
    "        # Obtener las dimensiones de la segunda pantalla\n",
    "        monitor_2 = sct.monitors[2]  # El segundo monitor en la lista (sct.monitors[1] es el primero)\n",
    "\n",
    "        # Capturar la pantalla secundaria completa\n",
    "        screenshot = sct.grab(monitor_2)\n",
    "\n",
    "        # Guardar la imagen capturada\n",
    "        mss.tools.to_png(screenshot.rgb, screenshot.size, output=filename)\n",
    "        print(f\"Captura de pantalla del monitor 2 guardada como {filename}\")"
   ]
  },
  {
   "cell_type": "code",
   "execution_count": 4,
   "metadata": {},
   "outputs": [
    {
     "name": "stdout",
     "output_type": "stream",
     "text": [
      "Horarios de captura de pantalla: ['17:16:12', '17:16:55', '17:16:48']\n",
      "Captura de pantalla del monitor 2 guardada como captura_secundaria_171612.png\n",
      "Captura de pantalla del monitor 2 guardada como captura_secundaria_171655.png\n",
      "Captura de pantalla del monitor 2 guardada como captura_secundaria_171648.png\n"
     ]
    }
   ],
   "source": [
    "import time\n",
    "from datetime import datetime, timedelta\n",
    "from random import randint\n",
    "from PIL import ImageGrab\n",
    "\n",
    "\n",
    "# Función para generar 3 horarios aleatorios entre 6 pm y 10 pm\n",
    "def generar_horas_aleatorias():\n",
    "    inicio = datetime.now().replace(hour=17, minute=16, second=0, microsecond=0)\n",
    "    fin = datetime.now().replace(hour=17, minute=17, second=0, microsecond=0)\n",
    "    return [inicio + timedelta(seconds=randint(0, int((fin - inicio).total_seconds()))) for _ in range(3)]\n",
    "\n",
    "\n",
    "# Programa principal\n",
    "def main():\n",
    "    horas_captura = generar_horas_aleatorias()\n",
    "    print(\"Horarios de captura de pantalla:\", [hora.strftime(\"%H:%M:%S\") for hora in horas_captura])\n",
    "\n",
    "    for hora in horas_captura:\n",
    "        # Espera hasta la hora de captura\n",
    "        while datetime.now() < hora:\n",
    "            time.sleep(1)\n",
    "\n",
    "        # Toma la captura de pantalla en la pantalla secundaria\n",
    "        filename = f\"captura_secundaria_{hora.strftime('%H%M%S')}.png\"\n",
    "        capturar_monitor_2(filename)\n",
    "\n",
    "if __name__ == \"__main__\":\n",
    "    main()\n"
   ]
  }
 ],
 "metadata": {
  "kernelspec": {
   "display_name": "Python 3",
   "language": "python",
   "name": "python3"
  },
  "language_info": {
   "codemirror_mode": {
    "name": "ipython",
    "version": 3
   },
   "file_extension": ".py",
   "mimetype": "text/x-python",
   "name": "python",
   "nbconvert_exporter": "python",
   "pygments_lexer": "ipython3",
   "version": "3.12.3"
  }
 },
 "nbformat": 4,
 "nbformat_minor": 2
}
