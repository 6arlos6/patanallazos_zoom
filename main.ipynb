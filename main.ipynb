{
 "cells": [
  {
   "cell_type": "code",
   "execution_count": 1,
   "metadata": {},
   "outputs": [],
   "source": [
    "import pyautogui\n",
    "import random\n",
    "import time\n",
    "from datetime import datetime, timedelta\n",
    "import subprocess\n",
    "\n",
    "import os"
   ]
  },
  {
   "cell_type": "code",
   "execution_count": 3,
   "metadata": {},
   "outputs": [],
   "source": [
    "import pygetwindow as gw\n",
    "import time\n",
    "from datetime import datetime, timedelta\n",
    "from random import randint\n",
    "from PIL import ImageGrab"
   ]
  },
  {
   "cell_type": "code",
   "execution_count": 2,
   "metadata": {},
   "outputs": [],
   "source": [
    "path_zoom = r\"C:\\Users\\User\\AppData\\Roaming\\Zoom\\bin\\Zoom.exe\""
   ]
  },
  {
   "cell_type": "code",
   "execution_count": 20,
   "metadata": {},
   "outputs": [],
   "source": [
    "def abrir_zoom():\n",
    "    try:\n",
    "        # Cambia la ruta a la de tu instalación de Zoom en Windows.\n",
    "        subprocess.Popen(path_zoom)  \n",
    "        time.sleep(5)  # Espera a que Zoom se abra\n",
    "    except Exception as e:\n",
    "        print(f\"Error al abrir Zoom: {e}\")"
   ]
  },
  {
   "cell_type": "code",
   "execution_count": 12,
   "metadata": {},
   "outputs": [
    {
     "data": {
      "text/plain": [
       "[Win32Window(hWnd=461186),\n",
       " Win32Window(hWnd=2426906),\n",
       " Win32Window(hWnd=2231740),\n",
       " Win32Window(hWnd=199296)]"
      ]
     },
     "execution_count": 12,
     "metadata": {},
     "output_type": "execute_result"
    }
   ],
   "source": [
    "gw.getWindowsWithTitle('Zoom')"
   ]
  },
  {
   "cell_type": "code",
   "execution_count": 16,
   "metadata": {},
   "outputs": [],
   "source": [
    "# Función para encontrar y maximizar la ventana de Zoom\n",
    "def maximizar_zoom():\n",
    "    try:\n",
    "        zoom_window = [w for w in gw.getWindowsWithTitle('Zoom')]\n",
    "        print(zoom_window)\n",
    "        if zoom_window:\n",
    "            zoom_window = zoom_window[0]\n",
    "            if not zoom_window.isMaximized:\n",
    "                zoom_window.maximize()\n",
    "            return zoom_window\n",
    "        else:\n",
    "            print(\"No se encontró una reunión de Zoom activa.\")\n",
    "            return None\n",
    "    except Exception as e:\n",
    "        print(f\"Error al intentar maximizar la ventana de Zoom: {e}\")\n",
    "        return None"
   ]
  },
  {
   "cell_type": "code",
   "execution_count": 6,
   "metadata": {},
   "outputs": [],
   "source": [
    "# Función para tomar captura de pantalla de la ventana de Zoom\n",
    "def capturar_pantalla(zoom_window, filename):\n",
    "    # Obtener las coordenadas de la ventana\n",
    "    left, top, right, bottom = zoom_window.left, zoom_window.top, zoom_window.right, zoom_window.bottom\n",
    "    # Tomar la captura de pantalla de la región específica\n",
    "    screenshot = ImageGrab.grab(bbox=(left, top, right, bottom))\n",
    "    screenshot.save(filename)\n",
    "    print(f\"Captura de pantalla guardada como {filename}\")"
   ]
  },
  {
   "cell_type": "code",
   "execution_count": 19,
   "metadata": {},
   "outputs": [
    {
     "name": "stdout",
     "output_type": "stream",
     "text": [
      "[Win32Window(hWnd=1771448), Win32Window(hWnd=2426906), Win32Window(hWnd=723580), Win32Window(hWnd=2231740), Win32Window(hWnd=199296)]\n",
      "Captura de pantalla guardada como captura_zoom_888.png\n"
     ]
    }
   ],
   "source": [
    "# Intentar maximizar la ventana de Zoom y capturar pantalla\n",
    "zoom_window = maximizar_zoom()\n",
    "if zoom_window:\n",
    "    filename = f\"captura_zoom_{888}.png\"\n",
    "    capturar_pantalla(zoom_window, filename)\n",
    "else:\n",
    "    print(\"No se pudo maximizar la ventana de Zoom. Reintenta manualmente.\")"
   ]
  },
  {
   "cell_type": "code",
   "execution_count": 5,
   "metadata": {},
   "outputs": [
    {
     "data": {
      "text/plain": [
       "Win32Window(hWnd=2426906)"
      ]
     },
     "execution_count": 5,
     "metadata": {},
     "output_type": "execute_result"
    }
   ],
   "source": [
    "maximizar_zoom()"
   ]
  },
  {
   "cell_type": "code",
   "execution_count": 22,
   "metadata": {},
   "outputs": [],
   "source": [
    "abrir_zoom()"
   ]
  },
  {
   "cell_type": "code",
   "execution_count": 8,
   "metadata": {},
   "outputs": [],
   "source": [
    "import time\n",
    "from datetime import datetime, timedelta\n",
    "from random import randint\n",
    "from PIL import ImageGrab\n",
    "\n",
    "# Configura las coordenadas de la pantalla secundaria\n",
    "# Estas coordenadas deben ser ajustadas de acuerdo con tu configuración de monitores\n",
    "# left, top, right, bottom (ejemplo para una pantalla de 1920x1080 en la derecha de la principal)\n",
    "monitor_2_region = (1920, 0, 3200, 1024) # Ajusta según la resolución y posición de tu pantalla secundaria\n",
    "\n",
    "# Función para generar 3 horarios aleatorios entre 6 pm y 10 pm\n",
    "def generar_horas_aleatorias():\n",
    "    inicio = datetime.now().replace(hour=18, minute=0, second=0, microsecond=0)\n",
    "    fin = datetime.now().replace(hour=22, minute=0, second=0, microsecond=0)\n",
    "    return [inicio + timedelta(seconds=randint(0, int((fin - inicio).total_seconds()))) for _ in range(3)]\n",
    "\n",
    "# Función para capturar pantalla en la pantalla secundaria\n",
    "def capturar_pantalla(filename):\n",
    "    screenshot = ImageGrab.grab(bbox=monitor_2_region)  # Toma la captura en la región definida\n",
    "    screenshot.save(filename)\n",
    "    print(f\"Captura de pantalla guardada como {filename}\")"
   ]
  },
  {
   "cell_type": "code",
   "execution_count": 9,
   "metadata": {},
   "outputs": [
    {
     "name": "stdout",
     "output_type": "stream",
     "text": [
      "Captura de pantalla guardada como d.jpg\n"
     ]
    }
   ],
   "source": [
    "capturar_pantalla(\"d.jpg\")"
   ]
  },
  {
   "cell_type": "code",
   "execution_count": 1,
   "metadata": {},
   "outputs": [],
   "source": [
    "from screeninfo import get_monitors"
   ]
  },
  {
   "cell_type": "code",
   "execution_count": null,
   "metadata": {},
   "outputs": [],
   "source": [
    "def obtener_resoluciones():\n",
    "    monitores = get_monitors()\n",
    "    resoluciones = []\n",
    "    \n",
    "    for i, monitor in enumerate(monitores):\n",
    "        print(f\"Monitor {i+1}: {monitor.width}x{monitor.height} - Posición: ({monitor.x}, {monitor.y})\")\n",
    "        resoluciones.append((monitor.width, monitor.height, monitor.x, monitor.y))\n",
    "    \n",
    "    # Calcular la resolución total considerando que las pantallas están en horizontal o vertical\n",
    "    ancho_total = sum([res[0] for res in resoluciones if res[2] == 0])  # Si están lado a lado\n",
    "    alto_total = sum([res[1] for res in resoluciones if res[3] == 0])  # Si están una encima de otra\n",
    "\n",
    "    if ancho_total > 0:\n",
    "        print(f\"Resolución total (pantallas lado a lado): {ancho_total}x{resoluciones[0][1]}\")\n",
    "    elif alto_total > 0:\n",
    "        print(f\"Resolución total (pantallas en vertical): {resoluciones[0][0]}x{alto_total}\")\n",
    "    else:\n",
    "        print(\"No se pudo determinar la configuración de las pantallas.\")"
   ]
  },
  {
   "cell_type": "code",
   "execution_count": 3,
   "metadata": {},
   "outputs": [
    {
     "name": "stdout",
     "output_type": "stream",
     "text": [
      "Monitor 1: 1920x1080 - Posición: (0, 0)\n",
      "Monitor 2: 1280x1024 - Posición: (1920, 0)\n",
      "Resolución total (pantallas lado a lado): 1920x1080\n"
     ]
    }
   ],
   "source": [
    "obtener_resoluciones()"
   ]
  },
  {
   "cell_type": "code",
   "execution_count": 10,
   "metadata": {},
   "outputs": [],
   "source": [
    "import mss\n",
    "import mss.tools\n",
    "\n",
    "def capturar_monitor_2(filename):\n",
    "    with mss.mss() as sct:\n",
    "        # Obtener las dimensiones de la segunda pantalla\n",
    "        monitor_2 = sct.monitors[2]  # El segundo monitor en la lista (sct.monitors[1] es el primero)\n",
    "\n",
    "        # Capturar la pantalla secundaria completa\n",
    "        screenshot = sct.grab(monitor_2)\n",
    "\n",
    "        # Guardar la imagen capturada\n",
    "        mss.tools.to_png(screenshot.rgb, screenshot.size, output=filename)\n",
    "        print(f\"Captura de pantalla del monitor 2 guardada como {filename}\")"
   ]
  },
  {
   "cell_type": "code",
   "execution_count": 11,
   "metadata": {},
   "outputs": [
    {
     "name": "stdout",
     "output_type": "stream",
     "text": [
      "Captura de pantalla del monitor 2 guardada como captura_monitor_2.png\n"
     ]
    }
   ],
   "source": [
    "capturar_monitor_2(\"captura_monitor_2.png\")"
   ]
  },
  {
   "cell_type": "code",
   "execution_count": null,
   "metadata": {},
   "outputs": [],
   "source": []
  }
 ],
 "metadata": {
  "kernelspec": {
   "display_name": "Python 3",
   "language": "python",
   "name": "python3"
  },
  "language_info": {
   "codemirror_mode": {
    "name": "ipython",
    "version": 3
   },
   "file_extension": ".py",
   "mimetype": "text/x-python",
   "name": "python",
   "nbconvert_exporter": "python",
   "pygments_lexer": "ipython3",
   "version": "3.12.3"
  }
 },
 "nbformat": 4,
 "nbformat_minor": 2
}
